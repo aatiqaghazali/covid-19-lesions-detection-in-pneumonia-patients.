{
  "nbformat": 4,
  "nbformat_minor": 0,
  "metadata": {
    "colab": {
      "name": "unet-2D-with-results.ipynb",
      "provenance": [],
      "collapsed_sections": [],
      "mount_file_id": "1ibcFzLLwXriCMFBcKnWhAi8qyw5QO9q8",
      "authorship_tag": "ABX9TyP8T4EUe1VFzJAI7vttDpwx",
      "include_colab_link": true
    },
    "kernelspec": {
      "display_name": "Python 3",
      "name": "python3"
    },
    "language_info": {
      "name": "python"
    }
  },
  "cells": [
    {
      "cell_type": "markdown",
      "metadata": {
        "id": "view-in-github",
        "colab_type": "text"
      },
      "source": [
        "<a href=\"https://colab.research.google.com/github/aatiqa-ghazali/covid/blob/main/COVID-19-lesions-segmentation-using-unet_2D_with_results.ipynb\" target=\"_parent\"><img src=\"https://colab.research.google.com/assets/colab-badge.svg\" alt=\"Open In Colab\"/></a>"
      ]
    },
    {
      "cell_type": "markdown",
      "metadata": {
        "id": "TrODa8nS1r-W"
      },
      "source": [
        "# **DIGITAL IMAGE PROCESSING-FINAL PROJECT**\n",
        "\n",
        "# **Aatiqa Bint e Ghazali/FA19-RCS-001**\n",
        "\n",
        "**TOPIC : COVID-19 LESIONS SEMANTIC-SEGMENTATION USING UNET-2D**\n",
        "\n",
        "**Dataset:UESTC-COVID-19 Dataset**\n",
        "\n",
        "For offical link of the data:[click here](https://faculty.uestc.edu.cn/HiLab/en/article/379152/content/3319.htm#article)\n",
        "\n",
        "Link for 2D-slices of data on google drive:[click-here](https://drive.google.com/drive/folders/1n_t9BWBDGS6vLLG7bUkbcBrA518nABQa?usp=sharing)\n"
      ]
    },
    {
      "cell_type": "markdown",
      "metadata": {
        "id": "CoX8d1lXDD9j"
      },
      "source": [
        "\n",
        "\n",
        "# Importing libraries\n",
        "\n",
        "\n",
        "\n"
      ]
    },
    {
      "cell_type": "code",
      "metadata": {
        "id": "CUkVr1In1sRO"
      },
      "source": [
        "#IMPORTING IMPORTANT LIBRARIES\n",
        "import os\n",
        "import matplotlib.pyplot as plt\n",
        "import tensorflow as tf\n",
        "from tensorflow.keras.preprocessing.image import ImageDataGenerator \n",
        "from tensorflow import keras"
      ],
      "execution_count": null,
      "outputs": []
    },
    {
      "cell_type": "markdown",
      "metadata": {
        "id": "UL6bFy9oDttw"
      },
      "source": [
        "# Loading Dataset"
      ]
    },
    {
      "cell_type": "code",
      "metadata": {
        "id": "ve0MXKmQ3rT8"
      },
      "source": [
        "\n",
        "## Define constants\n",
        "SEED = 1\n",
        "BATCH_SIZE_TRAIN = 32\n",
        "BATCH_SIZE_TEST = 32\n",
        "\n",
        "IMAGE_HEIGHT = 40\n",
        "IMAGE_WIDTH = 80\n",
        "IMG_SIZE = (IMAGE_HEIGHT, IMAGE_WIDTH)\n",
        "##LINK OF DATASET/LOADING\n",
        "data_dir = '/content/drive/MyDrive/newdata/slices/'\n",
        "data_dir_train = os.path.join(data_dir, 'training')\n",
        "# The images should be stored under: \"data/slices/training/img/img\"\n",
        "data_dir_train_image = os.path.join(data_dir_train, 'data')\n",
        "# The images should be stored under: \"data/slices/training/mask/img\"\n",
        "data_dir_train_mask = os.path.join(data_dir_train, 'label')\n",
        "\n",
        "data_dir_test = os.path.join(data_dir, 'test')\n",
        "# The images should be stored under: \"data/slices/test/img/img\"\n",
        "data_dir_test_image = os.path.join(data_dir_test, 'data')\n",
        "# The images should be stored under: \"data/slices/test/mask/img\"\n",
        "data_dir_test_mask = os.path.join(data_dir_test, 'label')\n",
        "\n",
        "NUM_TRAIN = 70\n",
        "NUM_TEST = 50\n",
        "\n",
        "NUM_OF_EPOCHS = 40"
      ],
      "execution_count": null,
      "outputs": []
    },
    {
      "cell_type": "markdown",
      "metadata": {
        "id": "GzjV8P481ppN"
      },
      "source": [
        ""
      ]
    },
    {
      "cell_type": "markdown",
      "metadata": {
        "id": "FmKb2GLtDUyg"
      },
      "source": [
        "# Creating train & test generators with the augmentation of training data\n",
        "\n",
        "\n",
        "\n"
      ]
    },
    {
      "cell_type": "code",
      "metadata": {
        "id": "3YUDB21N4u1c"
      },
      "source": [
        "#take the images from all directories and feed them to the neural netwrok\n",
        "def create_segmentation_generator_train(img_path, msk_path, BATCH_SIZE):\n",
        "    data_gen_args = dict(rescale=1./255\n",
        "#                      featurewise_center=True,\n",
        "#                      featurewise_std_normalization=True,\n",
        "#                      rotation_range=90\n",
        "#                      width_shift_range=0.2,\n",
        "#                      height_shift_range=0.2,\n",
        "#                      zoom_range=0.3\n",
        "                        )\n",
        "    datagen = ImageDataGenerator(**data_gen_args)\n",
        "    \n",
        "    img_generator = datagen.flow_from_directory(img_path, target_size=IMG_SIZE, class_mode=None, color_mode='grayscale', batch_size=BATCH_SIZE, seed=SEED)\n",
        "    msk_generator = datagen.flow_from_directory(msk_path, target_size=IMG_SIZE, class_mode=None, color_mode='grayscale', batch_size=BATCH_SIZE, seed=SEED)\n",
        "    return zip(img_generator, msk_generator)\n",
        "\n",
        "# Remember not to perform any image augmentation in the test generator!\n",
        "def create_segmentation_generator_test(img_path, msk_path, BATCH_SIZE):\n",
        "    data_gen_args = dict(rescale=1./255)\n",
        "    datagen = ImageDataGenerator(**data_gen_args)\n",
        "    \n",
        "    img_generator = datagen.flow_from_directory(img_path, target_size=IMG_SIZE, class_mode=None, color_mode='grayscale', batch_size=BATCH_SIZE, seed=SEED)\n",
        "    msk_generator = datagen.flow_from_directory(msk_path, target_size=IMG_SIZE, class_mode=None, color_mode='grayscale', batch_size=BATCH_SIZE, seed=SEED)\n",
        "    return zip(img_generator, msk_generator)"
      ],
      "execution_count": null,
      "outputs": []
    },
    {
      "cell_type": "markdown",
      "metadata": {
        "id": "lwPc8OL5FZja"
      },
      "source": [
        "# Fetching images from generators"
      ]
    },
    {
      "cell_type": "code",
      "metadata": {
        "colab": {
          "base_uri": "https://localhost:8080/"
        },
        "id": "sltWUdc040M6",
        "outputId": "2b0d582a-bd85-4bb2-bb26-96d7e701bca3"
      },
      "source": [
        "train_generator = create_segmentation_generator_train(data_dir_train_image, data_dir_train_mask, BATCH_SIZE_TRAIN)\n",
        "test_generator = create_segmentation_generator_test(data_dir_test_image, data_dir_test_mask, BATCH_SIZE_TEST)"
      ],
      "execution_count": null,
      "outputs": [
        {
          "output_type": "stream",
          "text": [
            "Found 43133 images belonging to 1 classes.\n",
            "Found 33148 images belonging to 1 classes.\n",
            "Found 31193 images belonging to 1 classes.\n",
            "Found 11985 images belonging to 1 classes.\n"
          ],
          "name": "stdout"
        }
      ]
    },
    {
      "cell_type": "code",
      "metadata": {
        "id": "ZXEyrpe3Xbvb"
      },
      "source": [
        "#display a label\n",
        "def display(display_list):\n",
        "    plt.figure(figsize=(30,30))\n",
        "    \n",
        "    title = ['Input Image', 'True Mask', 'Predicted Mask']\n",
        "    \n",
        "    for i in range(len(display_list)):\n",
        "        plt.subplot(1, len(display_list), i+1)\n",
        "        plt.title(title[i])\n",
        "        plt.imshow(tf.keras.preprocessing.image.array_to_img(display_list[i]), cmap='gray')\n",
        "    plt.show()"
      ],
      "execution_count": null,
      "outputs": []
    },
    {
      "cell_type": "code",
      "metadata": {
        "id": "RznuVIBIXdQ9"
      },
      "source": [
        "\n",
        "def show_dataset(datagen, num=1):\n",
        "    for i in range(0,num):\n",
        "        image,mask = next(datagen)\n",
        "        display([image[0], mask[0]])"
      ],
      "execution_count": null,
      "outputs": []
    },
    {
      "cell_type": "markdown",
      "metadata": {
        "id": "_4UwvQcUFqJc"
      },
      "source": [
        "# Creating Model/Arcitecture of UNET-2D"
      ]
    },
    {
      "cell_type": "code",
      "metadata": {
        "id": "nT9ON-03YFa8"
      },
      "source": [
        "def unet(n_levels, initial_features=32, n_blocks=2, kernel_size=3, pooling_size=2, in_channels=1, out_channels=1):\n",
        "    inputs = keras.layers.Input(shape=(IMAGE_HEIGHT, IMAGE_WIDTH, in_channels))\n",
        "    x = inputs\n",
        "    \n",
        "    convpars = dict(kernel_size=kernel_size, activation='relu', padding='same')\n",
        "    \n",
        "    #downstream\n",
        "    skips = {}\n",
        "    for level in range(n_levels):\n",
        "        for _ in range(n_blocks):\n",
        "            x = keras.layers.Conv2D(initial_features * 2 ** level, **convpars)(x)\n",
        "        if level < n_levels - 1:\n",
        "            skips[level] = x\n",
        "            x = keras.layers.MaxPool2D(pooling_size)(x)\n",
        "            \n",
        "    # upstream\n",
        "    for level in reversed(range(n_levels-1)):\n",
        "        x = keras.layers.Conv2DTranspose(initial_features * 2 ** level, strides=pooling_size, **convpars)(x)\n",
        "        x = keras.layers.Concatenate()([x, skips[level]])\n",
        "        for _ in range(n_blocks):\n",
        "            x = keras.layers.Conv2D(initial_features * 2 ** level, **convpars)(x)\n",
        "            \n",
        "    # output\n",
        "    activation = 'sigmoid' if out_channels == 1 else 'softmax'\n",
        "    x = keras.layers.Conv2D(out_channels, kernel_size=1, activation=activation, padding='same')(x)\n",
        "    \n",
        "    return keras.Model(inputs=[inputs], outputs=[x], name=f'UNET-L{n_levels}-F{initial_features}')"
      ],
      "execution_count": null,
      "outputs": []
    },
    {
      "cell_type": "markdown",
      "metadata": {
        "id": "JSfasDEdF0wD"
      },
      "source": [
        "# Summarising Model/Setting Epochs"
      ]
    },
    {
      "cell_type": "code",
      "metadata": {
        "colab": {
          "base_uri": "https://localhost:8080/"
        },
        "id": "E9-pIYiuYIbm",
        "outputId": "9e2753a7-962f-41fa-8c70-d5e60bd15c9b"
      },
      "source": [
        "EPOCH_STEP_TRAIN = NUM_TRAIN // BATCH_SIZE_TRAIN\n",
        "EPOCH_STEP_TEST = NUM_TEST // BATCH_SIZE_TEST\n",
        "\n",
        "model = unet(4)\n",
        "model.compile(optimizer='adam', loss='binary_crossentropy', metrics=['accuracy'])\n",
        "\n",
        "model.summary()"
      ],
      "execution_count": null,
      "outputs": [
        {
          "output_type": "stream",
          "text": [
            "Model: \"UNET-L4-F32\"\n",
            "__________________________________________________________________________________________________\n",
            "Layer (type)                    Output Shape         Param #     Connected to                     \n",
            "==================================================================================================\n",
            "input_2 (InputLayer)            [(None, 40, 80, 1)]  0                                            \n",
            "__________________________________________________________________________________________________\n",
            "conv2d_15 (Conv2D)              (None, 40, 80, 32)   320         input_2[0][0]                    \n",
            "__________________________________________________________________________________________________\n",
            "conv2d_16 (Conv2D)              (None, 40, 80, 32)   9248        conv2d_15[0][0]                  \n",
            "__________________________________________________________________________________________________\n",
            "max_pooling2d_3 (MaxPooling2D)  (None, 20, 40, 32)   0           conv2d_16[0][0]                  \n",
            "__________________________________________________________________________________________________\n",
            "conv2d_17 (Conv2D)              (None, 20, 40, 64)   18496       max_pooling2d_3[0][0]            \n",
            "__________________________________________________________________________________________________\n",
            "conv2d_18 (Conv2D)              (None, 20, 40, 64)   36928       conv2d_17[0][0]                  \n",
            "__________________________________________________________________________________________________\n",
            "max_pooling2d_4 (MaxPooling2D)  (None, 10, 20, 64)   0           conv2d_18[0][0]                  \n",
            "__________________________________________________________________________________________________\n",
            "conv2d_19 (Conv2D)              (None, 10, 20, 128)  73856       max_pooling2d_4[0][0]            \n",
            "__________________________________________________________________________________________________\n",
            "conv2d_20 (Conv2D)              (None, 10, 20, 128)  147584      conv2d_19[0][0]                  \n",
            "__________________________________________________________________________________________________\n",
            "max_pooling2d_5 (MaxPooling2D)  (None, 5, 10, 128)   0           conv2d_20[0][0]                  \n",
            "__________________________________________________________________________________________________\n",
            "conv2d_21 (Conv2D)              (None, 5, 10, 256)   295168      max_pooling2d_5[0][0]            \n",
            "__________________________________________________________________________________________________\n",
            "conv2d_22 (Conv2D)              (None, 5, 10, 256)   590080      conv2d_21[0][0]                  \n",
            "__________________________________________________________________________________________________\n",
            "conv2d_transpose_3 (Conv2DTrans (None, 10, 20, 128)  295040      conv2d_22[0][0]                  \n",
            "__________________________________________________________________________________________________\n",
            "concatenate_3 (Concatenate)     (None, 10, 20, 256)  0           conv2d_transpose_3[0][0]         \n",
            "                                                                 conv2d_20[0][0]                  \n",
            "__________________________________________________________________________________________________\n",
            "conv2d_23 (Conv2D)              (None, 10, 20, 128)  295040      concatenate_3[0][0]              \n",
            "__________________________________________________________________________________________________\n",
            "conv2d_24 (Conv2D)              (None, 10, 20, 128)  147584      conv2d_23[0][0]                  \n",
            "__________________________________________________________________________________________________\n",
            "conv2d_transpose_4 (Conv2DTrans (None, 20, 40, 64)   73792       conv2d_24[0][0]                  \n",
            "__________________________________________________________________________________________________\n",
            "concatenate_4 (Concatenate)     (None, 20, 40, 128)  0           conv2d_transpose_4[0][0]         \n",
            "                                                                 conv2d_18[0][0]                  \n",
            "__________________________________________________________________________________________________\n",
            "conv2d_25 (Conv2D)              (None, 20, 40, 64)   73792       concatenate_4[0][0]              \n",
            "__________________________________________________________________________________________________\n",
            "conv2d_26 (Conv2D)              (None, 20, 40, 64)   36928       conv2d_25[0][0]                  \n",
            "__________________________________________________________________________________________________\n",
            "conv2d_transpose_5 (Conv2DTrans (None, 40, 80, 32)   18464       conv2d_26[0][0]                  \n",
            "__________________________________________________________________________________________________\n",
            "concatenate_5 (Concatenate)     (None, 40, 80, 64)   0           conv2d_transpose_5[0][0]         \n",
            "                                                                 conv2d_16[0][0]                  \n",
            "__________________________________________________________________________________________________\n",
            "conv2d_27 (Conv2D)              (None, 40, 80, 32)   18464       concatenate_5[0][0]              \n",
            "__________________________________________________________________________________________________\n",
            "conv2d_28 (Conv2D)              (None, 40, 80, 32)   9248        conv2d_27[0][0]                  \n",
            "__________________________________________________________________________________________________\n",
            "conv2d_29 (Conv2D)              (None, 40, 80, 1)    33          conv2d_28[0][0]                  \n",
            "==================================================================================================\n",
            "Total params: 2,140,065\n",
            "Trainable params: 2,140,065\n",
            "Non-trainable params: 0\n",
            "__________________________________________________________________________________________________\n"
          ],
          "name": "stdout"
        }
      ]
    },
    {
      "cell_type": "markdown",
      "metadata": {
        "id": "Iu8Y2OrVGAg-"
      },
      "source": [
        "# Fitting The Model/Traning Started"
      ]
    },
    {
      "cell_type": "code",
      "metadata": {
        "colab": {
          "background_save": true,
          "base_uri": "https://localhost:8080/"
        },
        "id": "-2XymP5a5bY6",
        "outputId": "635abf36-5320-4df1-b99e-0d35be79b928"
      },
      "source": [
        "history=model.fit_generator(generator=train_generator, \n",
        "                    steps_per_epoch=EPOCH_STEP_TRAIN, \n",
        "                    validation_data=test_generator, \n",
        "                    validation_steps=EPOCH_STEP_TEST,\n",
        "                   epochs=NUM_OF_EPOCHS)\n"
      ],
      "execution_count": null,
      "outputs": [
        {
          "output_type": "stream",
          "text": [
            "/usr/local/lib/python3.7/dist-packages/tensorflow/python/keras/engine/training.py:1940: UserWarning: `Model.fit_generator` is deprecated and will be removed in a future version. Please use `Model.fit`, which supports generators.\n",
            "  warnings.warn('`Model.fit_generator` is deprecated and '\n"
          ],
          "name": "stderr"
        },
        {
          "output_type": "stream",
          "text": [
            "Epoch 1/40\n",
            "2/2 [==============================] - 8s 4s/step - loss: 0.6604 - accuracy: 0.9745 - val_loss: 0.5790 - val_accuracy: 0.9799\n",
            "Epoch 2/40\n",
            "2/2 [==============================] - 6s 3s/step - loss: 0.5297 - accuracy: 0.9850 - val_loss: 0.3049 - val_accuracy: 0.9938\n",
            "Epoch 3/40\n",
            "2/2 [==============================] - 24s 21s/step - loss: 0.2214 - accuracy: 0.9824 - val_loss: 0.4417 - val_accuracy: 0.9802\n",
            "Epoch 4/40\n",
            "2/2 [==============================] - 25s 22s/step - loss: 0.2890 - accuracy: 0.9853 - val_loss: 0.0453 - val_accuracy: 0.9963\n",
            "Epoch 5/40\n",
            "2/2 [==============================] - 24s 21s/step - loss: 0.0835 - accuracy: 0.9893 - val_loss: 0.0938 - val_accuracy: 0.9875\n",
            "Epoch 6/40\n",
            "2/2 [==============================] - 32s 29s/step - loss: 0.1040 - accuracy: 0.9870 - val_loss: 0.1272 - val_accuracy: 0.9803\n",
            "Epoch 7/40\n",
            "2/2 [==============================] - 27s 24s/step - loss: 0.0904 - accuracy: 0.9886 - val_loss: 0.1129 - val_accuracy: 0.9831\n",
            "Epoch 8/40\n",
            "2/2 [==============================] - 28s 25s/step - loss: 0.1251 - accuracy: 0.9794 - val_loss: 0.1030 - val_accuracy: 0.9849\n",
            "Epoch 9/40\n",
            "2/2 [==============================] - 84s 82s/step - loss: 0.1143 - accuracy: 0.9816 - val_loss: 0.0984 - val_accuracy: 0.9861\n",
            "Epoch 10/40\n",
            "2/2 [==============================] - 107s 104s/step - loss: 0.1235 - accuracy: 0.9816 - val_loss: 0.0970 - val_accuracy: 0.9845\n",
            "Epoch 11/40\n",
            "2/2 [==============================] - 124s 121s/step - loss: 0.0925 - accuracy: 0.9852 - val_loss: 0.0791 - val_accuracy: 0.9878\n",
            "Epoch 12/40\n",
            "2/2 [==============================] - 117s 115s/step - loss: 0.0610 - accuracy: 0.9910 - val_loss: 0.0532 - val_accuracy: 0.9931\n",
            "Epoch 13/40\n",
            "2/2 [==============================] - 118s 115s/step - loss: 0.0593 - accuracy: 0.9907 - val_loss: 0.0753 - val_accuracy: 0.9892\n",
            "Epoch 14/40\n",
            "2/2 [==============================] - 121s 118s/step - loss: 0.1084 - accuracy: 0.9834 - val_loss: 0.0687 - val_accuracy: 0.9897\n",
            "Epoch 15/40\n",
            "2/2 [==============================] - 123s 120s/step - loss: 0.0681 - accuracy: 0.9895 - val_loss: 0.0728 - val_accuracy: 0.9898\n",
            "Epoch 16/40\n",
            "2/2 [==============================] - 118s 115s/step - loss: 0.0960 - accuracy: 0.9824 - val_loss: 0.0939 - val_accuracy: 0.9837\n",
            "Epoch 17/40\n",
            "2/2 [==============================] - 120s 118s/step - loss: 0.1191 - accuracy: 0.9769 - val_loss: 0.1010 - val_accuracy: 0.9825\n",
            "Epoch 18/40\n",
            "2/2 [==============================] - 118s 116s/step - loss: 0.0837 - accuracy: 0.9872 - val_loss: 0.0951 - val_accuracy: 0.9850\n",
            "Epoch 19/40\n",
            "2/2 [==============================] - 120s 118s/step - loss: 0.1353 - accuracy: 0.9744 - val_loss: 0.0792 - val_accuracy: 0.9873\n",
            "Epoch 20/40\n",
            "2/2 [==============================] - 120s 117s/step - loss: 0.1134 - accuracy: 0.9770 - val_loss: 0.0791 - val_accuracy: 0.9864\n",
            "Epoch 21/40\n",
            "2/2 [==============================] - 121s 118s/step - loss: 0.1017 - accuracy: 0.9802 - val_loss: 0.0970 - val_accuracy: 0.9821\n",
            "Epoch 22/40\n",
            "2/2 [==============================] - 119s 116s/step - loss: 0.1195 - accuracy: 0.9748 - val_loss: 0.1067 - val_accuracy: 0.9800\n",
            "Epoch 23/40\n",
            "2/2 [==============================] - 116s 113s/step - loss: 0.0603 - accuracy: 0.9918 - val_loss: 0.1170 - val_accuracy: 0.9765\n",
            "Epoch 24/40\n",
            "2/2 [==============================] - 118s 116s/step - loss: 0.0592 - accuracy: 0.9901 - val_loss: 0.0948 - val_accuracy: 0.9825\n",
            "Epoch 25/40\n",
            "2/2 [==============================] - 121s 118s/step - loss: 0.1091 - accuracy: 0.9819 - val_loss: 0.0508 - val_accuracy: 0.9912\n",
            "Epoch 26/40\n",
            "2/2 [==============================] - 117s 115s/step - loss: 0.0861 - accuracy: 0.9843 - val_loss: 0.0769 - val_accuracy: 0.9867\n",
            "Epoch 27/40\n",
            "2/2 [==============================] - 118s 116s/step - loss: 0.0728 - accuracy: 0.9871 - val_loss: 0.0780 - val_accuracy: 0.9870\n",
            "Epoch 28/40\n",
            "2/2 [==============================] - 119s 117s/step - loss: 0.0996 - accuracy: 0.9807 - val_loss: 0.0955 - val_accuracy: 0.9817\n",
            "Epoch 29/40\n",
            "2/2 [==============================] - 128s 126s/step - loss: 0.0699 - accuracy: 0.9882 - val_loss: 0.0985 - val_accuracy: 0.9801\n",
            "Epoch 30/40\n",
            "2/2 [==============================] - 119s 116s/step - loss: 0.0624 - accuracy: 0.9884 - val_loss: 0.0771 - val_accuracy: 0.9858\n",
            "Epoch 31/40\n",
            "2/2 [==============================] - 121s 119s/step - loss: 0.1262 - accuracy: 0.9754 - val_loss: 0.0852 - val_accuracy: 0.9839\n",
            "Epoch 32/40\n",
            "2/2 [==============================] - 124s 121s/step - loss: 0.0883 - accuracy: 0.9822 - val_loss: 0.0895 - val_accuracy: 0.9822\n",
            "Epoch 33/40\n",
            "2/2 [==============================] - 120s 118s/step - loss: 0.0724 - accuracy: 0.9864 - val_loss: 0.0726 - val_accuracy: 0.9866\n",
            "Epoch 34/40\n",
            "2/2 [==============================] - 120s 117s/step - loss: 0.1087 - accuracy: 0.9771 - val_loss: 0.0612 - val_accuracy: 0.9891\n",
            "Epoch 35/40\n",
            "2/2 [==============================] - 121s 118s/step - loss: 0.0619 - accuracy: 0.9896 - val_loss: 0.0583 - val_accuracy: 0.9891\n",
            "Epoch 36/40\n",
            "2/2 [==============================] - 119s 117s/step - loss: 0.1122 - accuracy: 0.9762 - val_loss: 0.0638 - val_accuracy: 0.9883\n",
            "Epoch 37/40\n",
            "2/2 [==============================] - 119s 117s/step - loss: 0.0668 - accuracy: 0.9873 - val_loss: 0.0739 - val_accuracy: 0.9854\n",
            "Epoch 38/40\n",
            "2/2 [==============================] - 117s 114s/step - loss: 0.0745 - accuracy: 0.9854 - val_loss: 0.0501 - val_accuracy: 0.9914\n",
            "Epoch 39/40\n",
            "2/2 [==============================] - 122s 119s/step - loss: 0.1121 - accuracy: 0.9760 - val_loss: 0.0748 - val_accuracy: 0.9856\n",
            "Epoch 40/40\n",
            "2/2 [==============================] - 119s 116s/step - loss: 0.0729 - accuracy: 0.9864 - val_loss: 0.0518 - val_accuracy: 0.9920\n"
          ],
          "name": "stdout"
        }
      ]
    },
    {
      "cell_type": "markdown",
      "metadata": {
        "id": "NT8H3FZkGO3w"
      },
      "source": [
        "# Plotting Curves after training using the history key"
      ]
    },
    {
      "cell_type": "code",
      "metadata": {
        "colab": {
          "base_uri": "https://localhost:8080/",
          "height": 483
        },
        "id": "x6QCePWeYtSj",
        "outputId": "3ceab2a7-190d-4f4c-c475-9b4d4a143e21"
      },
      "source": [
        "import pandas as pd\n",
        "from matplotlib import pyplot as plt\n",
        "pd.DataFrame(history.history).plot(figsize=(12,8))\n",
        "plt.show()"
      ],
      "execution_count": null,
      "outputs": [
        {
          "output_type": "display_data",
          "data": {
            "image/png": "[encoded data removed]",
            "text/plain": [
              "<Figure size 864x576 with 1 Axes>"
            ]
          },
          "metadata": {
            "tags": [],
            "needs_background": "light"
          }
        }
      ]
    },
    {
      "cell_type": "markdown",
      "metadata": {
        "id": "0ZfqWkYxGY4Y"
      },
      "source": [
        "# Plotting Accuracy Curves"
      ]
    },
    {
      "cell_type": "code",
      "metadata": {
        "colab": {
          "base_uri": "https://localhost:8080/",
          "height": 295
        },
        "id": "T6f0jHHZQWU2",
        "outputId": "e5352779-99ae-4a80-c371-691545ff41a0"
      },
      "source": [
        "# summarize history for accuracy\n",
        "plt.plot(history.history['accuracy'])\n",
        "plt.plot(history.history['val_accuracy'])\n",
        "\n",
        "plt.title('model accuracy')\n",
        "plt.ylabel('accuracy')\n",
        "plt.xlabel('epoch')\n",
        "plt.legend(['train', 'test'], loc='upper left')\n",
        "plt.show()\n"
      ],
      "execution_count": null,
      "outputs": [
        {
          "output_type": "display_data",
          "data": {
            "image/png": "[encoded data removed]",
            "text/plain": [
              "<Figure size 432x288 with 1 Axes>"
            ]
          },
          "metadata": {
            "tags": [],
            "needs_background": "light"
          }
        }
      ]
    },
    {
      "cell_type": "markdown",
      "metadata": {
        "id": "4Zt020BrGexn"
      },
      "source": [
        "# Visualize How the error goes up and down during training"
      ]
    },
    {
      "cell_type": "code",
      "metadata": {
        "colab": {
          "base_uri": "https://localhost:8080/",
          "height": 295
        },
        "id": "2wRAwhYPz8Op",
        "outputId": "370427ff-290e-42c2-d63d-71bd0a5a443b"
      },
      "source": [
        "# summarize history for loss\n",
        "plt.plot(history.history['loss'])\n",
        "plt.plot(history.history['val_loss'])\n",
        "plt.title('model loss')\n",
        "plt.ylabel('loss')\n",
        "plt.xlabel('epoch')\n",
        "plt.legend(['train', 'test'], loc='upper left')\n",
        "plt.show()"
      ],
      "execution_count": null,
      "outputs": [
        {
          "output_type": "display_data",
          "data": {
            "image/png": "[encoded data removed]",
            "text/plain": [
              "<Figure size 432x288 with 1 Axes>"
            ]
          },
          "metadata": {
            "tags": []
          }
        }
      ]
    },
    {
      "cell_type": "markdown",
      "metadata": {
        "id": "kHnVTnfFG7kn"
      },
      "source": [
        ""
      ]
    },
    {
      "cell_type": "markdown",
      "metadata": {
        "id": "aMlRqXpRG8rp"
      },
      "source": [
        "# save the model for future predictions"
      ]
    },
    {
      "cell_type": "code",
      "metadata": {
        "id": "WLvLHZsTN6W2"
      },
      "source": [
        "model.save(f'unet2D_results_{IMAGE_HEIGHT}_{IMAGE_WIDTH}.h5')\n"
      ],
      "execution_count": null,
      "outputs": []
    },
    {
      "cell_type": "markdown",
      "metadata": {
        "id": "4t9DiTjNHGJd"
      },
      "source": [
        "# Loading saved model"
      ]
    },
    {
      "cell_type": "code",
      "metadata": {
        "id": "TiE99__iSqAZ"
      },
      "source": [
        "from tensorflow import keras\n",
        "model = keras.models.load_model('/content/unet2D_results_40_80.h5')"
      ],
      "execution_count": null,
      "outputs": []
    },
    {
      "cell_type": "code",
      "metadata": {
        "id": "axOkFwhAOKJb"
      },
      "source": [
        ""
      ],
      "execution_count": null,
      "outputs": []
    }
  ]
}